{
  "cells": [
    {
      "cell_type": "markdown",
      "metadata": {
        "id": "view-in-github",
        "colab_type": "text"
      },
      "source": [
        "<a href=\"https://colab.research.google.com/github/Delcapa/BDA_6th/blob/main/_Project_Dropout_and_BNN.ipynb\" target=\"_parent\"><img src=\"https://colab.research.google.com/assets/colab-badge.svg\" alt=\"Open In Colab\"/></a>"
      ]
    },
    {
      "cell_type": "code",
      "execution_count": 1,
      "id": "345048bb",
      "metadata": {
        "id": "345048bb"
      },
      "outputs": [],
      "source": [
        "import torch\n",
        "from torchvision import datasets, transforms"
      ]
    },
    {
      "cell_type": "markdown",
      "id": "ad09b11f",
      "metadata": {
        "id": "ad09b11f"
      },
      "source": [
        "# Data Preprocessing\n",
        "\n",
        "- Transforms.ToTensor</br>\n",
        "Transform Image from HxWxC for [0,255] to CxHxW for [0.0, 1.0]</br>\n",
        "</br>\n",
        "- Transforms.Normalize((mean), (variance))</br>\n",
        "Standardization data into foe range [-1,1]"
      ]
    },
    {
      "cell_type": "code",
      "execution_count": 9,
      "id": "f72c1ce2",
      "metadata": {
        "id": "f72c1ce2"
      },
      "outputs": [],
      "source": [
        "# torchvision.transforms.ToTensor() class: PIL 이미지 또는 numpy 배열을\n",
        "# pytorch tensor(\"Channel x Height x Width\")로 변화 시켜주는  클래스입니다.\n",
        "\n",
        "# transofrms.Normalize(): 각 채널별 평균(mean)을 뺀 뒤 표준편차(std)로 나누어 정규화를 진행\n",
        "transform = transforms.Compose([transforms.ToTensor(), # 이미지 픽셀 범위 0~1로 조정\n",
        "                                transforms.Normalize((0.5,),(0.5,)) # (채널평균:0.5, 0.5, 0.5), (채널표준편차: 0.5, 0.5, 0.5)로 정규화\n",
        "                                # 변환 후 결과 = (픽셀 값-각 채널평균)/각 채널 표준편차\n",
        "\n",
        "                               ])\n",
        "\n"
      ]
    },
    {
      "cell_type": "code",
      "execution_count": 3,
      "id": "6b897bd4",
      "metadata": {
        "scrolled": true,
        "colab": {
          "base_uri": "https://localhost:8080/"
        },
        "id": "6b897bd4",
        "outputId": "5d98fa05-68d8-4a28-f8bc-e1e664efbb07"
      },
      "outputs": [
        {
          "output_type": "stream",
          "name": "stdout",
          "text": [
            "Downloading http://yann.lecun.com/exdb/mnist/train-images-idx3-ubyte.gz\n",
            "Failed to download (trying next):\n",
            "HTTP Error 403: Forbidden\n",
            "\n",
            "Downloading https://ossci-datasets.s3.amazonaws.com/mnist/train-images-idx3-ubyte.gz\n",
            "Downloading https://ossci-datasets.s3.amazonaws.com/mnist/train-images-idx3-ubyte.gz to /root/.pytorch/MNIST_data/MNIST/raw/train-images-idx3-ubyte.gz\n"
          ]
        },
        {
          "output_type": "stream",
          "name": "stderr",
          "text": [
            "100%|██████████| 9912422/9912422 [00:00<00:00, 16001643.91it/s]\n"
          ]
        },
        {
          "output_type": "stream",
          "name": "stdout",
          "text": [
            "Extracting /root/.pytorch/MNIST_data/MNIST/raw/train-images-idx3-ubyte.gz to /root/.pytorch/MNIST_data/MNIST/raw\n",
            "\n",
            "Downloading http://yann.lecun.com/exdb/mnist/train-labels-idx1-ubyte.gz\n",
            "Failed to download (trying next):\n",
            "HTTP Error 403: Forbidden\n",
            "\n",
            "Downloading https://ossci-datasets.s3.amazonaws.com/mnist/train-labels-idx1-ubyte.gz\n",
            "Downloading https://ossci-datasets.s3.amazonaws.com/mnist/train-labels-idx1-ubyte.gz to /root/.pytorch/MNIST_data/MNIST/raw/train-labels-idx1-ubyte.gz\n"
          ]
        },
        {
          "output_type": "stream",
          "name": "stderr",
          "text": [
            "100%|██████████| 28881/28881 [00:00<00:00, 496663.35it/s]\n"
          ]
        },
        {
          "output_type": "stream",
          "name": "stdout",
          "text": [
            "Extracting /root/.pytorch/MNIST_data/MNIST/raw/train-labels-idx1-ubyte.gz to /root/.pytorch/MNIST_data/MNIST/raw\n",
            "\n",
            "Downloading http://yann.lecun.com/exdb/mnist/t10k-images-idx3-ubyte.gz\n",
            "Failed to download (trying next):\n",
            "HTTP Error 403: Forbidden\n",
            "\n",
            "Downloading https://ossci-datasets.s3.amazonaws.com/mnist/t10k-images-idx3-ubyte.gz\n",
            "Downloading https://ossci-datasets.s3.amazonaws.com/mnist/t10k-images-idx3-ubyte.gz to /root/.pytorch/MNIST_data/MNIST/raw/t10k-images-idx3-ubyte.gz\n"
          ]
        },
        {
          "output_type": "stream",
          "name": "stderr",
          "text": [
            "100%|██████████| 1648877/1648877 [00:01<00:00, 926983.04it/s] \n"
          ]
        },
        {
          "output_type": "stream",
          "name": "stdout",
          "text": [
            "Extracting /root/.pytorch/MNIST_data/MNIST/raw/t10k-images-idx3-ubyte.gz to /root/.pytorch/MNIST_data/MNIST/raw\n",
            "\n",
            "Downloading http://yann.lecun.com/exdb/mnist/t10k-labels-idx1-ubyte.gz\n",
            "Failed to download (trying next):\n",
            "HTTP Error 403: Forbidden\n",
            "\n",
            "Downloading https://ossci-datasets.s3.amazonaws.com/mnist/t10k-labels-idx1-ubyte.gz\n",
            "Downloading https://ossci-datasets.s3.amazonaws.com/mnist/t10k-labels-idx1-ubyte.gz to /root/.pytorch/MNIST_data/MNIST/raw/t10k-labels-idx1-ubyte.gz\n"
          ]
        },
        {
          "output_type": "stream",
          "name": "stderr",
          "text": [
            "100%|██████████| 4542/4542 [00:00<00:00, 3273849.25it/s]"
          ]
        },
        {
          "output_type": "stream",
          "name": "stdout",
          "text": [
            "Extracting /root/.pytorch/MNIST_data/MNIST/raw/t10k-labels-idx1-ubyte.gz to /root/.pytorch/MNIST_data/MNIST/raw\n",
            "\n"
          ]
        },
        {
          "output_type": "stream",
          "name": "stderr",
          "text": [
            "\n"
          ]
        }
      ],
      "source": [
        "data_train = datasets.MNIST('~/.pytorch/MNIST_data/', download=True, train=True, transform=transform)\n",
        "data_test = datasets.MNIST('~/.pytorch/MNIST_data/', download=True, train=False, transform=transform)\n",
        "\n",
        "train_loader = torch.utils.data.DataLoader(data_train, batch_size=32, shuffle=True)\n",
        "test_loader = torch.utils.data.DataLoader(data_test, batch_size=32, shuffle=True)"
      ]
    },
    {
      "cell_type": "code",
      "execution_count": 4,
      "id": "5810ed77",
      "metadata": {
        "id": "5810ed77"
      },
      "outputs": [],
      "source": [
        "import torch.nn as nn\n",
        "import torch.nn.functional as F"
      ]
    },
    {
      "cell_type": "markdown",
      "id": "446ab93d",
      "metadata": {
        "id": "446ab93d"
      },
      "source": [
        "# Neural Network Architecture"
      ]
    },
    {
      "cell_type": "code",
      "execution_count": null,
      "id": "aa8be897",
      "metadata": {
        "id": "aa8be897"
      },
      "outputs": [],
      "source": [
        "class MC_Dropout(nn.Module):\n",
        "    def __init__(self):\n",
        "        super(MC_Dropout, self).__init__()\n",
        "        self.pseudo_bnn = nn.Sequential(\n",
        "            nn.Conv2d(1,32,3, stride=1, padding=1),\n",
        "            nn.ReLU(),\n",
        "            nn.Conv2d(32,32,3, stride=1, padding=1),\n",
        "            nn.MaxPool2d(kernel_size=2, stride=2),\n",
        "            nn.ReLU(),\n",
        "\n",
        "            nn.Conv2d(32,128,3, stride=1, padding=1),\n",
        "            nn.ReLU(),\n",
        "            nn.Conv2d(128,128,3, stride=1, padding=1),\n",
        "            nn.MaxPool2d(kernel_size=2, stride=2),\n",
        "\n",
        "            nn.Conv2d(128,256,3, stride=1, padding=1),\n",
        "            nn.Conv2d(256,256,3, stride=1, padding=1),\n",
        "            nn.MaxPool2d(kernel_size=2, stride=2),\n",
        "            nn.ReLU()\n",
        "        )\n",
        "        self.dropout = nn.Dropout(0.5)\n",
        "        self.fc1 = nn.Linear(3*3*256, 4096)\n",
        "        self.fc2 = nn.Linear(4096, 10)\n",
        "\n",
        "    def forward(self, x):\n",
        "        x = self.pseudo_bnn(x)\n",
        "        x = x.view(x.size(0), -1)\n",
        "        x = self.fc1(x)\n",
        "        x = self.dropout(x)\n",
        "        x = self.fc2(x)\n",
        "        return x\n",
        "\n",
        "    def enable_dropout(self):\n",
        "        \"\"\" Function to explicitly enable dropout during testing \"\"\"\n",
        "        for module in self.modules():\n",
        "            if isinstance(module, nn.Dropout):\n",
        "                module.train()"
      ]
    },
    {
      "cell_type": "markdown",
      "id": "6ed5a170",
      "metadata": {
        "id": "6ed5a170"
      },
      "source": [
        "# Training and Test"
      ]
    },
    {
      "cell_type": "code",
      "execution_count": null,
      "id": "77560a61",
      "metadata": {
        "id": "77560a61"
      },
      "outputs": [],
      "source": [
        "model = MC_Dropout()\n",
        "criterion = nn.CrossEntropyLoss()\n",
        "optimizer = torch.optim.Adam(model.parameters(), lr=0.0005)"
      ]
    },
    {
      "cell_type": "code",
      "execution_count": null,
      "id": "5dba33f5",
      "metadata": {
        "id": "5dba33f5",
        "outputId": "93059016-bc5f-4319-b702-5b556a29b7a7"
      },
      "outputs": [
        {
          "data": {
            "text/plain": [
              "MC_Dropout(\n",
              "  (pseudo_bnn): Sequential(\n",
              "    (0): Conv2d(1, 32, kernel_size=(3, 3), stride=(1, 1), padding=(1, 1))\n",
              "    (1): ReLU()\n",
              "    (2): Conv2d(32, 32, kernel_size=(3, 3), stride=(1, 1), padding=(1, 1))\n",
              "    (3): MaxPool2d(kernel_size=2, stride=2, padding=0, dilation=1, ceil_mode=False)\n",
              "    (4): ReLU()\n",
              "    (5): Conv2d(32, 128, kernel_size=(3, 3), stride=(1, 1), padding=(1, 1))\n",
              "    (6): ReLU()\n",
              "    (7): Conv2d(128, 128, kernel_size=(3, 3), stride=(1, 1), padding=(1, 1))\n",
              "    (8): MaxPool2d(kernel_size=2, stride=2, padding=0, dilation=1, ceil_mode=False)\n",
              "    (9): Conv2d(128, 256, kernel_size=(3, 3), stride=(1, 1), padding=(1, 1))\n",
              "    (10): Conv2d(256, 256, kernel_size=(3, 3), stride=(1, 1), padding=(1, 1))\n",
              "    (11): MaxPool2d(kernel_size=2, stride=2, padding=0, dilation=1, ceil_mode=False)\n",
              "    (12): ReLU()\n",
              "  )\n",
              "  (dropout): Dropout(p=0.5, inplace=False)\n",
              "  (fc1): Linear(in_features=2304, out_features=4096, bias=True)\n",
              "  (fc2): Linear(in_features=4096, out_features=10, bias=True)\n",
              ")"
            ]
          },
          "execution_count": 7,
          "metadata": {},
          "output_type": "execute_result"
        }
      ],
      "source": [
        "device = torch.device(\"cuda\" if torch.cuda.is_available() else \"cpu\")\n",
        "model.to(device)"
      ]
    },
    {
      "cell_type": "code",
      "execution_count": null,
      "id": "c02e0966",
      "metadata": {
        "id": "c02e0966",
        "outputId": "d09d7056-2ec5-4548-a4c9-7c5904dbc47e"
      },
      "outputs": [
        {
          "name": "stdout",
          "output_type": "stream",
          "text": [
            "Train Epoch: 1 [0/60000 (0%)]\tLoss: 2.302057\n",
            "Train Epoch: 1 [3200/60000 (5%)]\tLoss: 0.170395\n",
            "Train Epoch: 1 [6400/60000 (11%)]\tLoss: 0.080898\n",
            "Train Epoch: 1 [9600/60000 (16%)]\tLoss: 0.142739\n",
            "Train Epoch: 1 [12800/60000 (21%)]\tLoss: 0.147537\n",
            "Train Epoch: 1 [16000/60000 (27%)]\tLoss: 0.005346\n",
            "Train Epoch: 1 [19200/60000 (32%)]\tLoss: 0.006632\n",
            "Train Epoch: 1 [22400/60000 (37%)]\tLoss: 0.028047\n",
            "Train Epoch: 1 [25600/60000 (43%)]\tLoss: 0.047281\n",
            "Train Epoch: 1 [28800/60000 (48%)]\tLoss: 0.000484\n",
            "Train Epoch: 1 [32000/60000 (53%)]\tLoss: 0.339587\n",
            "Train Epoch: 1 [35200/60000 (59%)]\tLoss: 0.007476\n",
            "Train Epoch: 1 [38400/60000 (64%)]\tLoss: 0.035016\n",
            "Train Epoch: 1 [41600/60000 (69%)]\tLoss: 0.091852\n",
            "Train Epoch: 1 [44800/60000 (75%)]\tLoss: 0.102595\n",
            "Train Epoch: 1 [48000/60000 (80%)]\tLoss: 0.006699\n",
            "Train Epoch: 1 [51200/60000 (85%)]\tLoss: 0.062998\n",
            "Train Epoch: 1 [54400/60000 (91%)]\tLoss: 0.027048\n",
            "Train Epoch: 1 [57600/60000 (96%)]\tLoss: 0.094034\n",
            "Train Epoch: 2 [0/60000 (0%)]\tLoss: 0.033042\n",
            "Train Epoch: 2 [3200/60000 (5%)]\tLoss: 0.004752\n",
            "Train Epoch: 2 [6400/60000 (11%)]\tLoss: 0.000699\n",
            "Train Epoch: 2 [9600/60000 (16%)]\tLoss: 0.011163\n",
            "Train Epoch: 2 [12800/60000 (21%)]\tLoss: 0.005031\n",
            "Train Epoch: 2 [16000/60000 (27%)]\tLoss: 0.017150\n",
            "Train Epoch: 2 [19200/60000 (32%)]\tLoss: 0.002165\n",
            "Train Epoch: 2 [22400/60000 (37%)]\tLoss: 0.029239\n",
            "Train Epoch: 2 [25600/60000 (43%)]\tLoss: 0.003695\n",
            "Train Epoch: 2 [28800/60000 (48%)]\tLoss: 0.079593\n",
            "Train Epoch: 2 [32000/60000 (53%)]\tLoss: 0.002257\n",
            "Train Epoch: 2 [35200/60000 (59%)]\tLoss: 0.007307\n",
            "Train Epoch: 2 [38400/60000 (64%)]\tLoss: 0.000489\n",
            "Train Epoch: 2 [41600/60000 (69%)]\tLoss: 0.490812\n",
            "Train Epoch: 2 [44800/60000 (75%)]\tLoss: 0.012408\n",
            "Train Epoch: 2 [48000/60000 (80%)]\tLoss: 0.191454\n",
            "Train Epoch: 2 [51200/60000 (85%)]\tLoss: 0.002395\n",
            "Train Epoch: 2 [54400/60000 (91%)]\tLoss: 0.000521\n",
            "Train Epoch: 2 [57600/60000 (96%)]\tLoss: 0.021026\n",
            "Train Epoch: 3 [0/60000 (0%)]\tLoss: 0.070597\n",
            "Train Epoch: 3 [3200/60000 (5%)]\tLoss: 0.000199\n",
            "Train Epoch: 3 [6400/60000 (11%)]\tLoss: 0.081845\n",
            "Train Epoch: 3 [9600/60000 (16%)]\tLoss: 0.012800\n",
            "Train Epoch: 3 [12800/60000 (21%)]\tLoss: 0.008572\n",
            "Train Epoch: 3 [16000/60000 (27%)]\tLoss: 0.008506\n",
            "Train Epoch: 3 [19200/60000 (32%)]\tLoss: 0.009507\n",
            "Train Epoch: 3 [22400/60000 (37%)]\tLoss: 0.011514\n",
            "Train Epoch: 3 [25600/60000 (43%)]\tLoss: 0.000506\n",
            "Train Epoch: 3 [28800/60000 (48%)]\tLoss: 0.019359\n",
            "Train Epoch: 3 [32000/60000 (53%)]\tLoss: 0.149725\n",
            "Train Epoch: 3 [35200/60000 (59%)]\tLoss: 0.016533\n",
            "Train Epoch: 3 [38400/60000 (64%)]\tLoss: 0.056026\n",
            "Train Epoch: 3 [41600/60000 (69%)]\tLoss: 0.000407\n",
            "Train Epoch: 3 [44800/60000 (75%)]\tLoss: 0.006826\n",
            "Train Epoch: 3 [48000/60000 (80%)]\tLoss: 0.012021\n",
            "Train Epoch: 3 [51200/60000 (85%)]\tLoss: 0.000947\n",
            "Train Epoch: 3 [54400/60000 (91%)]\tLoss: 0.000367\n",
            "Train Epoch: 3 [57600/60000 (96%)]\tLoss: 0.019748\n",
            "Train Epoch: 4 [0/60000 (0%)]\tLoss: 0.011563\n",
            "Train Epoch: 4 [3200/60000 (5%)]\tLoss: 0.038815\n",
            "Train Epoch: 4 [6400/60000 (11%)]\tLoss: 0.005574\n",
            "Train Epoch: 4 [9600/60000 (16%)]\tLoss: 0.012946\n",
            "Train Epoch: 4 [12800/60000 (21%)]\tLoss: 0.106838\n",
            "Train Epoch: 4 [16000/60000 (27%)]\tLoss: 0.004228\n",
            "Train Epoch: 4 [19200/60000 (32%)]\tLoss: 0.016270\n",
            "Train Epoch: 4 [22400/60000 (37%)]\tLoss: 0.001736\n",
            "Train Epoch: 4 [25600/60000 (43%)]\tLoss: 0.028240\n",
            "Train Epoch: 4 [28800/60000 (48%)]\tLoss: 0.000013\n",
            "Train Epoch: 4 [32000/60000 (53%)]\tLoss: 0.051789\n",
            "Train Epoch: 4 [35200/60000 (59%)]\tLoss: 0.032192\n",
            "Train Epoch: 4 [38400/60000 (64%)]\tLoss: 0.032869\n",
            "Train Epoch: 4 [41600/60000 (69%)]\tLoss: 0.469982\n",
            "Train Epoch: 4 [44800/60000 (75%)]\tLoss: 0.119878\n",
            "Train Epoch: 4 [48000/60000 (80%)]\tLoss: 0.006513\n",
            "Train Epoch: 4 [51200/60000 (85%)]\tLoss: 0.000447\n",
            "Train Epoch: 4 [54400/60000 (91%)]\tLoss: 0.000451\n",
            "Train Epoch: 4 [57600/60000 (96%)]\tLoss: 0.001832\n"
          ]
        }
      ],
      "source": [
        "# Training function\n",
        "def train(epoch):\n",
        "    model.train()  # Always in training mode to keep dropout active\n",
        "    for batch_idx, (data, target) in enumerate(train_loader):\n",
        "        data, target = data.to(device), target.to(device)\n",
        "        optimizer.zero_grad()\n",
        "        output = model(data)\n",
        "        loss = criterion(output, target)\n",
        "        loss.backward()\n",
        "        optimizer.step()\n",
        "        if batch_idx % 100 == 0:\n",
        "            print(f'Train Epoch: {epoch} [{batch_idx * len(data)}/{len(train_loader.dataset)} ({100. * batch_idx / len(train_loader):.0f}%)]\\tLoss: {loss.item():.6f}')\n",
        "\n",
        "# Running training and testing\n",
        "for epoch in range(1, 6):  # Train for 10 epochs\n",
        "    train(epoch)\n",
        ""
      ]
    },
    {
      "cell_type": "code",
      "execution_count": null,
      "id": "5152fec2",
      "metadata": {
        "id": "5152fec2"
      },
      "outputs": [],
      "source": [
        "\n",
        "# # Test function with MC Dropout\n",
        "# def test():\n",
        "#     model.enable_dropout()  # Ensure dropout is enabled\n",
        "#     test_loss = 0\n",
        "#     correct = 0\n",
        "#     with torch.no_grad():\n",
        "#         for data, target in test_loader:\n",
        "#             data, target = data.to(device), target.to(device)\n",
        "#             output = model(data)\n",
        "#             test_loss += criterion(output, target).item()\n",
        "#             pred = output.argmax(dim=1, keepdim=True)\n",
        "#             correct += pred.eq(target.view_as(pred)).sum().item()\n",
        "\n",
        "#             test_loss /= len(test_loader.dataset)\n",
        "#             accuracy = 100. * correct / len(test_loader.dataset)\n",
        "#         print(f'\\nTest set: Average loss: {test_loss:.4f}, Accuracy: {correct}/{len(test_loader.dataset)} ({accuracy:.0f}%)\\n')\n"
      ]
    },
    {
      "cell_type": "code",
      "execution_count": null,
      "id": "214b93e2",
      "metadata": {
        "id": "214b93e2"
      },
      "outputs": [],
      "source": [
        "test()"
      ]
    },
    {
      "cell_type": "code",
      "execution_count": null,
      "id": "65d6ad07",
      "metadata": {
        "id": "65d6ad07"
      },
      "outputs": [],
      "source": [
        "# Test function with MC Dropout\n",
        "def test2():\n",
        "    model.enable_dropout()  # Ensure dropout is enabled\n",
        "    test_loss = 0\n",
        "    correct = 0\n",
        "    with torch.no_grad():\n",
        "        for data, target in test_loader:\n",
        "            data, target = data.to(device), target.to(device)\n",
        "            output = model(data)\n",
        "            test_loss += criterion(output, target).item()\n",
        "            pred = output.argmax(dim=1, keepdim=True)\n",
        "            correct += pred.eq(target.view_as(pred)).sum().item()\n",
        "\n",
        "            test_loss /= len(test_loader.dataset)\n",
        "            accuracy = 100. * correct / len(test_loader.dataset)\n",
        "        print(f'\\nTest set: Average loss: {test_loss:.4f}, Accuracy: {correct}/{len(test_loader.dataset)} ({accuracy:.0f}%)\\n')\n"
      ]
    },
    {
      "cell_type": "code",
      "execution_count": null,
      "id": "322bd1b0",
      "metadata": {
        "id": "322bd1b0"
      },
      "outputs": [],
      "source": [
        "test2()"
      ]
    },
    {
      "cell_type": "code",
      "execution_count": null,
      "id": "a05ca146",
      "metadata": {
        "id": "a05ca146"
      },
      "outputs": [],
      "source": []
    }
  ],
  "metadata": {
    "kernelspec": {
      "display_name": "Python 3 (ipykernel)",
      "language": "python",
      "name": "python3"
    },
    "language_info": {
      "codemirror_mode": {
        "name": "ipython",
        "version": 3
      },
      "file_extension": ".py",
      "mimetype": "text/x-python",
      "name": "python",
      "nbconvert_exporter": "python",
      "pygments_lexer": "ipython3",
      "version": "3.8.10"
    },
    "colab": {
      "provenance": [],
      "include_colab_link": true
    }
  },
  "nbformat": 4,
  "nbformat_minor": 5
}