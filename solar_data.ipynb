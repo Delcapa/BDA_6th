{
  "cells": [
    {
      "cell_type": "markdown",
      "metadata": {
        "id": "view-in-github",
        "colab_type": "text"
      },
      "source": [
        "<a href=\"https://colab.research.google.com/github/Delcapa/BDA_6th/blob/main/solar_data.ipynb\" target=\"_parent\"><img src=\"https://colab.research.google.com/assets/colab-badge.svg\" alt=\"Open In Colab\"/></a>"
      ]
    },
    {
      "cell_type": "code",
      "execution_count": null,
      "id": "c320f431",
      "metadata": {
        "id": "c320f431"
      },
      "outputs": [],
      "source": [
        "import pandas as pd"
      ]
    },
    {
      "cell_type": "code",
      "execution_count": null,
      "id": "2f0a2513",
      "metadata": {
        "id": "2f0a2513"
      },
      "outputs": [],
      "source": [
        "solar = pd.read_csv('2021solar_seoul.csv', encoding = 'cp949') #cp949: 한글로 구성된 데이터 불러올때 오류 해결해줌\n",
        "weather = pd.read_csv('2021weather_seoul.csv', encoding = 'cp949')"
      ]
    },
    {
      "cell_type": "markdown",
      "id": "7235647f",
      "metadata": {
        "id": "7235647f"
      },
      "source": [
        "## 태양광 에너지 시간별 발전량 데이터(2018~2021년)"
      ]
    },
    {
      "cell_type": "code",
      "execution_count": null,
      "id": "aa31e3ca",
      "metadata": {
        "scrolled": true,
        "id": "aa31e3ca",
        "outputId": "f0c124fa-a2c9-45a2-924b-d6dc452914ed"
      },
      "outputs": [
        {
          "data": {
            "text/html": [
              "<div>\n",
              "<style scoped>\n",
              "    .dataframe tbody tr th:only-of-type {\n",
              "        vertical-align: middle;\n",
              "    }\n",
              "\n",
              "    .dataframe tbody tr th {\n",
              "        vertical-align: top;\n",
              "    }\n",
              "\n",
              "    .dataframe thead th {\n",
              "        text-align: right;\n",
              "    }\n",
              "</style>\n",
              "<table border=\"1\" class=\"dataframe\">\n",
              "  <thead>\n",
              "    <tr style=\"text-align: right;\">\n",
              "      <th></th>\n",
              "      <th>연료원</th>\n",
              "      <th>지역세부구분</th>\n",
              "      <th>거래일</th>\n",
              "      <th>시간</th>\n",
              "      <th>전력거래량(MWh)</th>\n",
              "    </tr>\n",
              "  </thead>\n",
              "  <tbody>\n",
              "    <tr>\n",
              "      <th>0</th>\n",
              "      <td>태양광</td>\n",
              "      <td>서울시</td>\n",
              "      <td>2018-01-01</td>\n",
              "      <td>1</td>\n",
              "      <td>0.0</td>\n",
              "    </tr>\n",
              "    <tr>\n",
              "      <th>1</th>\n",
              "      <td>태양광</td>\n",
              "      <td>서울시</td>\n",
              "      <td>2018-01-01</td>\n",
              "      <td>2</td>\n",
              "      <td>0.0</td>\n",
              "    </tr>\n",
              "    <tr>\n",
              "      <th>2</th>\n",
              "      <td>태양광</td>\n",
              "      <td>서울시</td>\n",
              "      <td>2018-01-01</td>\n",
              "      <td>3</td>\n",
              "      <td>0.0</td>\n",
              "    </tr>\n",
              "    <tr>\n",
              "      <th>3</th>\n",
              "      <td>태양광</td>\n",
              "      <td>서울시</td>\n",
              "      <td>2018-01-01</td>\n",
              "      <td>4</td>\n",
              "      <td>0.0</td>\n",
              "    </tr>\n",
              "    <tr>\n",
              "      <th>4</th>\n",
              "      <td>태양광</td>\n",
              "      <td>서울시</td>\n",
              "      <td>2018-01-01</td>\n",
              "      <td>5</td>\n",
              "      <td>0.0</td>\n",
              "    </tr>\n",
              "  </tbody>\n",
              "</table>\n",
              "</div>"
            ],
            "text/plain": [
              "   연료원 지역세부구분         거래일  시간  전력거래량(MWh)\n",
              "0  태양광    서울시  2018-01-01   1         0.0\n",
              "1  태양광    서울시  2018-01-01   2         0.0\n",
              "2  태양광    서울시  2018-01-01   3         0.0\n",
              "3  태양광    서울시  2018-01-01   4         0.0\n",
              "4  태양광    서울시  2018-01-01   5         0.0"
            ]
          },
          "execution_count": 88,
          "metadata": {},
          "output_type": "execute_result"
        }
      ],
      "source": [
        "solar.head()"
      ]
    },
    {
      "cell_type": "code",
      "execution_count": null,
      "id": "353895ed",
      "metadata": {
        "id": "353895ed",
        "outputId": "1c5b2ff1-f79f-4f58-c974-98b6e0eafe37"
      },
      "outputs": [
        {
          "name": "stdout",
          "output_type": "stream",
          "text": [
            "<class 'pandas.core.frame.DataFrame'>\n",
            "RangeIndex: 35064 entries, 0 to 35063\n",
            "Data columns (total 5 columns):\n",
            " #   Column      Non-Null Count  Dtype  \n",
            "---  ------      --------------  -----  \n",
            " 0   연료원         35064 non-null  object \n",
            " 1   지역세부구분      35064 non-null  object \n",
            " 2   거래일         35064 non-null  object \n",
            " 3   시간          35064 non-null  int64  \n",
            " 4   전력거래량(MWh)  35064 non-null  float64\n",
            "dtypes: float64(1), int64(1), object(3)\n",
            "memory usage: 1.3+ MB\n"
          ]
        }
      ],
      "source": [
        "solar.info()"
      ]
    },
    {
      "cell_type": "code",
      "execution_count": null,
      "id": "7efd015a",
      "metadata": {
        "id": "7efd015a",
        "outputId": "6694d1cd-ccf3-4dce-8083-8db7908b1525"
      },
      "outputs": [
        {
          "data": {
            "text/plain": [
              "연료원           0\n",
              "지역세부구분        0\n",
              "거래일           0\n",
              "시간            0\n",
              "전력거래량(MWh)    0\n",
              "dtype: int64"
            ]
          },
          "execution_count": 90,
          "metadata": {},
          "output_type": "execute_result"
        }
      ],
      "source": [
        "solar.isna().sum() #결측치는 없음"
      ]
    },
    {
      "cell_type": "code",
      "execution_count": null,
      "id": "69ce84c3",
      "metadata": {
        "id": "69ce84c3",
        "outputId": "33dc85bc-1295-4196-fe6c-a63e96376f16"
      },
      "outputs": [
        {
          "data": {
            "text/plain": [
              "Index(['연료원', '지역세부구분', '거래일', '시간', '전력거래량(MWh)'], dtype='object')"
            ]
          },
          "execution_count": 91,
          "metadata": {},
          "output_type": "execute_result"
        }
      ],
      "source": [
        "solar.columns"
      ]
    },
    {
      "cell_type": "code",
      "execution_count": null,
      "id": "52a73509",
      "metadata": {
        "id": "52a73509"
      },
      "outputs": [],
      "source": [
        "solar = solar[['지역세부구분', '거래일', '시간', '전력거래량(MWh)']].copy()"
      ]
    },
    {
      "cell_type": "code",
      "execution_count": null,
      "id": "70aad182",
      "metadata": {
        "id": "70aad182",
        "outputId": "096fd3b2-0cfa-4784-a5b9-be5fdc96c830"
      },
      "outputs": [
        {
          "name": "stdout",
          "output_type": "stream",
          "text": [
            "<class 'pandas.core.frame.DataFrame'>\n",
            "RangeIndex: 35064 entries, 0 to 35063\n",
            "Data columns (total 4 columns):\n",
            " #   Column      Non-Null Count  Dtype  \n",
            "---  ------      --------------  -----  \n",
            " 0   지역세부구분      35064 non-null  object \n",
            " 1   거래일         35064 non-null  object \n",
            " 2   시간          35064 non-null  int64  \n",
            " 3   전력거래량(MWh)  35064 non-null  float64\n",
            "dtypes: float64(1), int64(1), object(2)\n",
            "memory usage: 1.1+ MB\n"
          ]
        }
      ],
      "source": [
        "solar.info() #데이터 용량 최소화"
      ]
    },
    {
      "cell_type": "code",
      "execution_count": null,
      "id": "2f621c21",
      "metadata": {
        "id": "2f621c21",
        "outputId": "13e9494c-3961-467e-cc8a-a627676d21ef"
      },
      "outputs": [
        {
          "data": {
            "text/html": [
              "<div>\n",
              "<style scoped>\n",
              "    .dataframe tbody tr th:only-of-type {\n",
              "        vertical-align: middle;\n",
              "    }\n",
              "\n",
              "    .dataframe tbody tr th {\n",
              "        vertical-align: top;\n",
              "    }\n",
              "\n",
              "    .dataframe thead th {\n",
              "        text-align: right;\n",
              "    }\n",
              "</style>\n",
              "<table border=\"1\" class=\"dataframe\">\n",
              "  <thead>\n",
              "    <tr style=\"text-align: right;\">\n",
              "      <th></th>\n",
              "      <th>지역세부구분</th>\n",
              "      <th>거래일</th>\n",
              "      <th>시간</th>\n",
              "      <th>전력거래량(MWh)</th>\n",
              "    </tr>\n",
              "  </thead>\n",
              "  <tbody>\n",
              "    <tr>\n",
              "      <th>0</th>\n",
              "      <td>서울시</td>\n",
              "      <td>2018-01-01</td>\n",
              "      <td>1</td>\n",
              "      <td>0.0</td>\n",
              "    </tr>\n",
              "    <tr>\n",
              "      <th>1</th>\n",
              "      <td>서울시</td>\n",
              "      <td>2018-01-01</td>\n",
              "      <td>2</td>\n",
              "      <td>0.0</td>\n",
              "    </tr>\n",
              "    <tr>\n",
              "      <th>2</th>\n",
              "      <td>서울시</td>\n",
              "      <td>2018-01-01</td>\n",
              "      <td>3</td>\n",
              "      <td>0.0</td>\n",
              "    </tr>\n",
              "    <tr>\n",
              "      <th>3</th>\n",
              "      <td>서울시</td>\n",
              "      <td>2018-01-01</td>\n",
              "      <td>4</td>\n",
              "      <td>0.0</td>\n",
              "    </tr>\n",
              "    <tr>\n",
              "      <th>4</th>\n",
              "      <td>서울시</td>\n",
              "      <td>2018-01-01</td>\n",
              "      <td>5</td>\n",
              "      <td>0.0</td>\n",
              "    </tr>\n",
              "    <tr>\n",
              "      <th>...</th>\n",
              "      <td>...</td>\n",
              "      <td>...</td>\n",
              "      <td>...</td>\n",
              "      <td>...</td>\n",
              "    </tr>\n",
              "    <tr>\n",
              "      <th>35059</th>\n",
              "      <td>서울시</td>\n",
              "      <td>2021-12-31</td>\n",
              "      <td>20</td>\n",
              "      <td>0.0</td>\n",
              "    </tr>\n",
              "    <tr>\n",
              "      <th>35060</th>\n",
              "      <td>서울시</td>\n",
              "      <td>2021-12-31</td>\n",
              "      <td>21</td>\n",
              "      <td>0.0</td>\n",
              "    </tr>\n",
              "    <tr>\n",
              "      <th>35061</th>\n",
              "      <td>서울시</td>\n",
              "      <td>2021-12-31</td>\n",
              "      <td>22</td>\n",
              "      <td>0.0</td>\n",
              "    </tr>\n",
              "    <tr>\n",
              "      <th>35062</th>\n",
              "      <td>서울시</td>\n",
              "      <td>2021-12-31</td>\n",
              "      <td>23</td>\n",
              "      <td>0.0</td>\n",
              "    </tr>\n",
              "    <tr>\n",
              "      <th>35063</th>\n",
              "      <td>서울시</td>\n",
              "      <td>2021-12-31</td>\n",
              "      <td>24</td>\n",
              "      <td>0.0</td>\n",
              "    </tr>\n",
              "  </tbody>\n",
              "</table>\n",
              "<p>35064 rows × 4 columns</p>\n",
              "</div>"
            ],
            "text/plain": [
              "      지역세부구분         거래일  시간  전력거래량(MWh)\n",
              "0        서울시  2018-01-01   1         0.0\n",
              "1        서울시  2018-01-01   2         0.0\n",
              "2        서울시  2018-01-01   3         0.0\n",
              "3        서울시  2018-01-01   4         0.0\n",
              "4        서울시  2018-01-01   5         0.0\n",
              "...      ...         ...  ..         ...\n",
              "35059    서울시  2021-12-31  20         0.0\n",
              "35060    서울시  2021-12-31  21         0.0\n",
              "35061    서울시  2021-12-31  22         0.0\n",
              "35062    서울시  2021-12-31  23         0.0\n",
              "35063    서울시  2021-12-31  24         0.0\n",
              "\n",
              "[35064 rows x 4 columns]"
            ]
          },
          "execution_count": 94,
          "metadata": {},
          "output_type": "execute_result"
        }
      ],
      "source": [
        "solar"
      ]
    },
    {
      "cell_type": "code",
      "execution_count": null,
      "id": "2c067d10",
      "metadata": {
        "scrolled": true,
        "id": "2c067d10",
        "outputId": "240ec57e-9a15-40da-893c-fecaca5a76d2"
      },
      "outputs": [
        {
          "name": "stdout",
          "output_type": "stream",
          "text": [
            "<class 'pandas.core.frame.DataFrame'>\n",
            "RangeIndex: 35064 entries, 0 to 35063\n",
            "Data columns (total 5 columns):\n",
            " #   Column      Non-Null Count  Dtype         \n",
            "---  ------      --------------  -----         \n",
            " 0   지역세부구분      35064 non-null  object        \n",
            " 1   거래일         35064 non-null  object        \n",
            " 2   시간          35064 non-null  int64         \n",
            " 3   전력거래량(MWh)  35064 non-null  float64       \n",
            " 4   Date        35064 non-null  datetime64[ns]\n",
            "dtypes: datetime64[ns](1), float64(1), int64(1), object(2)\n",
            "memory usage: 1.3+ MB\n"
          ]
        }
      ],
      "source": [
        "solar['Date'] = pd.to_datetime(solar['거래일'])\n",
        "solar.info() # dt속성을 이용하기 위해 거래일을 datetime형태로 바꾼 것을 date열에 저장"
      ]
    },
    {
      "cell_type": "code",
      "execution_count": null,
      "id": "85f79b12",
      "metadata": {
        "id": "85f79b12",
        "outputId": "3cfa1b56-dded-44bd-dda2-5a145fbc27f3"
      },
      "outputs": [
        {
          "data": {
            "text/html": [
              "<div>\n",
              "<style scoped>\n",
              "    .dataframe tbody tr th:only-of-type {\n",
              "        vertical-align: middle;\n",
              "    }\n",
              "\n",
              "    .dataframe tbody tr th {\n",
              "        vertical-align: top;\n",
              "    }\n",
              "\n",
              "    .dataframe thead th {\n",
              "        text-align: right;\n",
              "    }\n",
              "</style>\n",
              "<table border=\"1\" class=\"dataframe\">\n",
              "  <thead>\n",
              "    <tr style=\"text-align: right;\">\n",
              "      <th></th>\n",
              "      <th>지역세부구분</th>\n",
              "      <th>거래일</th>\n",
              "      <th>시간</th>\n",
              "      <th>전력거래량(MWh)</th>\n",
              "      <th>Date</th>\n",
              "      <th>Year</th>\n",
              "      <th>Month</th>\n",
              "      <th>Day</th>\n",
              "    </tr>\n",
              "  </thead>\n",
              "  <tbody>\n",
              "    <tr>\n",
              "      <th>0</th>\n",
              "      <td>서울시</td>\n",
              "      <td>2018-01-01</td>\n",
              "      <td>1</td>\n",
              "      <td>0.0</td>\n",
              "      <td>2018-01-01</td>\n",
              "      <td>2018</td>\n",
              "      <td>1</td>\n",
              "      <td>1</td>\n",
              "    </tr>\n",
              "    <tr>\n",
              "      <th>1</th>\n",
              "      <td>서울시</td>\n",
              "      <td>2018-01-01</td>\n",
              "      <td>2</td>\n",
              "      <td>0.0</td>\n",
              "      <td>2018-01-01</td>\n",
              "      <td>2018</td>\n",
              "      <td>1</td>\n",
              "      <td>1</td>\n",
              "    </tr>\n",
              "    <tr>\n",
              "      <th>2</th>\n",
              "      <td>서울시</td>\n",
              "      <td>2018-01-01</td>\n",
              "      <td>3</td>\n",
              "      <td>0.0</td>\n",
              "      <td>2018-01-01</td>\n",
              "      <td>2018</td>\n",
              "      <td>1</td>\n",
              "      <td>1</td>\n",
              "    </tr>\n",
              "    <tr>\n",
              "      <th>3</th>\n",
              "      <td>서울시</td>\n",
              "      <td>2018-01-01</td>\n",
              "      <td>4</td>\n",
              "      <td>0.0</td>\n",
              "      <td>2018-01-01</td>\n",
              "      <td>2018</td>\n",
              "      <td>1</td>\n",
              "      <td>1</td>\n",
              "    </tr>\n",
              "    <tr>\n",
              "      <th>4</th>\n",
              "      <td>서울시</td>\n",
              "      <td>2018-01-01</td>\n",
              "      <td>5</td>\n",
              "      <td>0.0</td>\n",
              "      <td>2018-01-01</td>\n",
              "      <td>2018</td>\n",
              "      <td>1</td>\n",
              "      <td>1</td>\n",
              "    </tr>\n",
              "  </tbody>\n",
              "</table>\n",
              "</div>"
            ],
            "text/plain": [
              "  지역세부구분         거래일  시간  전력거래량(MWh)       Date  Year  Month  Day\n",
              "0    서울시  2018-01-01   1         0.0 2018-01-01  2018      1    1\n",
              "1    서울시  2018-01-01   2         0.0 2018-01-01  2018      1    1\n",
              "2    서울시  2018-01-01   3         0.0 2018-01-01  2018      1    1\n",
              "3    서울시  2018-01-01   4         0.0 2018-01-01  2018      1    1\n",
              "4    서울시  2018-01-01   5         0.0 2018-01-01  2018      1    1"
            ]
          },
          "execution_count": 96,
          "metadata": {},
          "output_type": "execute_result"
        }
      ],
      "source": [
        "solar['Year'] = solar['Date'].dt.year\n",
        "solar['Month'] = solar['Date'].dt.month\n",
        "solar['Day'] = solar['Date'].dt.day\n",
        "\n",
        "solar.head()"
      ]
    },
    {
      "cell_type": "code",
      "execution_count": null,
      "id": "1c068e59",
      "metadata": {
        "id": "1c068e59"
      },
      "outputs": [],
      "source": [
        "solar_after = solar.groupby(['Year','Month','Day']).agg(solar_day = ('전력거래량(MWh)','sum')).reset_index()"
      ]
    },
    {
      "cell_type": "code",
      "execution_count": null,
      "id": "6e1d9aa6",
      "metadata": {
        "id": "6e1d9aa6",
        "outputId": "1017e41a-3e4e-4564-97fb-8054fe3da3a5"
      },
      "outputs": [
        {
          "data": {
            "text/html": [
              "<div>\n",
              "<style scoped>\n",
              "    .dataframe tbody tr th:only-of-type {\n",
              "        vertical-align: middle;\n",
              "    }\n",
              "\n",
              "    .dataframe tbody tr th {\n",
              "        vertical-align: top;\n",
              "    }\n",
              "\n",
              "    .dataframe thead th {\n",
              "        text-align: right;\n",
              "    }\n",
              "</style>\n",
              "<table border=\"1\" class=\"dataframe\">\n",
              "  <thead>\n",
              "    <tr style=\"text-align: right;\">\n",
              "      <th></th>\n",
              "      <th>Year</th>\n",
              "      <th>Month</th>\n",
              "      <th>Day</th>\n",
              "      <th>solar_day</th>\n",
              "    </tr>\n",
              "  </thead>\n",
              "  <tbody>\n",
              "    <tr>\n",
              "      <th>1096</th>\n",
              "      <td>2021</td>\n",
              "      <td>1</td>\n",
              "      <td>1</td>\n",
              "      <td>39.278784</td>\n",
              "    </tr>\n",
              "    <tr>\n",
              "      <th>1097</th>\n",
              "      <td>2021</td>\n",
              "      <td>1</td>\n",
              "      <td>2</td>\n",
              "      <td>50.582033</td>\n",
              "    </tr>\n",
              "    <tr>\n",
              "      <th>1098</th>\n",
              "      <td>2021</td>\n",
              "      <td>1</td>\n",
              "      <td>3</td>\n",
              "      <td>34.708302</td>\n",
              "    </tr>\n",
              "    <tr>\n",
              "      <th>1099</th>\n",
              "      <td>2021</td>\n",
              "      <td>1</td>\n",
              "      <td>4</td>\n",
              "      <td>31.779181</td>\n",
              "    </tr>\n",
              "    <tr>\n",
              "      <th>1100</th>\n",
              "      <td>2021</td>\n",
              "      <td>1</td>\n",
              "      <td>5</td>\n",
              "      <td>47.523972</td>\n",
              "    </tr>\n",
              "    <tr>\n",
              "      <th>...</th>\n",
              "      <td>...</td>\n",
              "      <td>...</td>\n",
              "      <td>...</td>\n",
              "      <td>...</td>\n",
              "    </tr>\n",
              "    <tr>\n",
              "      <th>1456</th>\n",
              "      <td>2021</td>\n",
              "      <td>12</td>\n",
              "      <td>27</td>\n",
              "      <td>23.184872</td>\n",
              "    </tr>\n",
              "    <tr>\n",
              "      <th>1457</th>\n",
              "      <td>2021</td>\n",
              "      <td>12</td>\n",
              "      <td>28</td>\n",
              "      <td>14.259177</td>\n",
              "    </tr>\n",
              "    <tr>\n",
              "      <th>1458</th>\n",
              "      <td>2021</td>\n",
              "      <td>12</td>\n",
              "      <td>29</td>\n",
              "      <td>17.772088</td>\n",
              "    </tr>\n",
              "    <tr>\n",
              "      <th>1459</th>\n",
              "      <td>2021</td>\n",
              "      <td>12</td>\n",
              "      <td>30</td>\n",
              "      <td>38.614533</td>\n",
              "    </tr>\n",
              "    <tr>\n",
              "      <th>1460</th>\n",
              "      <td>2021</td>\n",
              "      <td>12</td>\n",
              "      <td>31</td>\n",
              "      <td>55.063524</td>\n",
              "    </tr>\n",
              "  </tbody>\n",
              "</table>\n",
              "<p>365 rows × 4 columns</p>\n",
              "</div>"
            ],
            "text/plain": [
              "      Year  Month  Day  solar_day\n",
              "1096  2021      1    1  39.278784\n",
              "1097  2021      1    2  50.582033\n",
              "1098  2021      1    3  34.708302\n",
              "1099  2021      1    4  31.779181\n",
              "1100  2021      1    5  47.523972\n",
              "...    ...    ...  ...        ...\n",
              "1456  2021     12   27  23.184872\n",
              "1457  2021     12   28  14.259177\n",
              "1458  2021     12   29  17.772088\n",
              "1459  2021     12   30  38.614533\n",
              "1460  2021     12   31  55.063524\n",
              "\n",
              "[365 rows x 4 columns]"
            ]
          },
          "execution_count": 98,
          "metadata": {},
          "output_type": "execute_result"
        }
      ],
      "source": [
        "solar_2021 = solar_after[solar_after['Year'] == 2021]\n",
        "solar_2021 # 2022년 데이터만으로 전처리 완료 (시간도 정리됨)"
      ]
    },
    {
      "cell_type": "markdown",
      "id": "a7c00fdd",
      "metadata": {
        "id": "a7c00fdd"
      },
      "source": [
        "## 일별 기상 정보 데이터(2021년)"
      ]
    },
    {
      "cell_type": "code",
      "execution_count": null,
      "id": "f33c918e",
      "metadata": {
        "scrolled": false,
        "id": "f33c918e",
        "outputId": "b983084b-44ab-413c-fe24-2695ea2c0762"
      },
      "outputs": [
        {
          "data": {
            "text/html": [
              "<div>\n",
              "<style scoped>\n",
              "    .dataframe tbody tr th:only-of-type {\n",
              "        vertical-align: middle;\n",
              "    }\n",
              "\n",
              "    .dataframe tbody tr th {\n",
              "        vertical-align: top;\n",
              "    }\n",
              "\n",
              "    .dataframe thead th {\n",
              "        text-align: right;\n",
              "    }\n",
              "</style>\n",
              "<table border=\"1\" class=\"dataframe\">\n",
              "  <thead>\n",
              "    <tr style=\"text-align: right;\">\n",
              "      <th></th>\n",
              "      <th>지점</th>\n",
              "      <th>지점명</th>\n",
              "      <th>일시</th>\n",
              "      <th>평균기온(°C)</th>\n",
              "      <th>최저기온(°C)</th>\n",
              "      <th>최고기온(°C)</th>\n",
              "      <th>일강수량(mm)</th>\n",
              "      <th>평균 풍속(m/s)</th>\n",
              "      <th>일 최심적설(cm)</th>\n",
              "    </tr>\n",
              "  </thead>\n",
              "  <tbody>\n",
              "    <tr>\n",
              "      <th>0</th>\n",
              "      <td>108</td>\n",
              "      <td>서울</td>\n",
              "      <td>2021-01-01</td>\n",
              "      <td>-4.2</td>\n",
              "      <td>-9.8</td>\n",
              "      <td>1.6</td>\n",
              "      <td>NaN</td>\n",
              "      <td>2.0</td>\n",
              "      <td>NaN</td>\n",
              "    </tr>\n",
              "    <tr>\n",
              "      <th>1</th>\n",
              "      <td>108</td>\n",
              "      <td>서울</td>\n",
              "      <td>2021-01-02</td>\n",
              "      <td>-5.0</td>\n",
              "      <td>-8.4</td>\n",
              "      <td>-1.4</td>\n",
              "      <td>NaN</td>\n",
              "      <td>2.6</td>\n",
              "      <td>NaN</td>\n",
              "    </tr>\n",
              "    <tr>\n",
              "      <th>2</th>\n",
              "      <td>108</td>\n",
              "      <td>서울</td>\n",
              "      <td>2021-01-03</td>\n",
              "      <td>-5.6</td>\n",
              "      <td>-9.1</td>\n",
              "      <td>-2.0</td>\n",
              "      <td>NaN</td>\n",
              "      <td>2.0</td>\n",
              "      <td>NaN</td>\n",
              "    </tr>\n",
              "    <tr>\n",
              "      <th>3</th>\n",
              "      <td>108</td>\n",
              "      <td>서울</td>\n",
              "      <td>2021-01-04</td>\n",
              "      <td>-3.5</td>\n",
              "      <td>-8.4</td>\n",
              "      <td>0.3</td>\n",
              "      <td>0.0</td>\n",
              "      <td>1.7</td>\n",
              "      <td>0.0</td>\n",
              "    </tr>\n",
              "    <tr>\n",
              "      <th>4</th>\n",
              "      <td>108</td>\n",
              "      <td>서울</td>\n",
              "      <td>2021-01-05</td>\n",
              "      <td>-5.5</td>\n",
              "      <td>-9.9</td>\n",
              "      <td>-2.1</td>\n",
              "      <td>0.0</td>\n",
              "      <td>2.9</td>\n",
              "      <td>0.0</td>\n",
              "    </tr>\n",
              "  </tbody>\n",
              "</table>\n",
              "</div>"
            ],
            "text/plain": [
              "    지점 지점명          일시  평균기온(°C)  최저기온(°C)  최고기온(°C)  일강수량(mm)  평균 풍속(m/s)  \\\n",
              "0  108  서울  2021-01-01      -4.2      -9.8       1.6       NaN         2.0   \n",
              "1  108  서울  2021-01-02      -5.0      -8.4      -1.4       NaN         2.6   \n",
              "2  108  서울  2021-01-03      -5.6      -9.1      -2.0       NaN         2.0   \n",
              "3  108  서울  2021-01-04      -3.5      -8.4       0.3       0.0         1.7   \n",
              "4  108  서울  2021-01-05      -5.5      -9.9      -2.1       0.0         2.9   \n",
              "\n",
              "   일 최심적설(cm)  \n",
              "0         NaN  \n",
              "1         NaN  \n",
              "2         NaN  \n",
              "3         0.0  \n",
              "4         0.0  "
            ]
          },
          "execution_count": 99,
          "metadata": {},
          "output_type": "execute_result"
        }
      ],
      "source": [
        "weather.head()"
      ]
    },
    {
      "cell_type": "code",
      "execution_count": null,
      "id": "9d56e742",
      "metadata": {
        "scrolled": true,
        "id": "9d56e742",
        "outputId": "620b8379-7ef3-4874-981d-a0887879f9ad"
      },
      "outputs": [
        {
          "name": "stdout",
          "output_type": "stream",
          "text": [
            "<class 'pandas.core.frame.DataFrame'>\n",
            "RangeIndex: 365 entries, 0 to 364\n",
            "Data columns (total 9 columns):\n",
            " #   Column      Non-Null Count  Dtype  \n",
            "---  ------      --------------  -----  \n",
            " 0   지점          365 non-null    int64  \n",
            " 1   지점명         365 non-null    object \n",
            " 2   일시          365 non-null    object \n",
            " 3   평균기온(°C)    365 non-null    float64\n",
            " 4   최저기온(°C)    365 non-null    float64\n",
            " 5   최고기온(°C)    365 non-null    float64\n",
            " 6   일강수량(mm)    160 non-null    float64\n",
            " 7   평균 풍속(m/s)  365 non-null    float64\n",
            " 8   일 최심적설(cm)  27 non-null     float64\n",
            "dtypes: float64(6), int64(1), object(2)\n",
            "memory usage: 25.8+ KB\n"
          ]
        }
      ],
      "source": [
        "weather.info()"
      ]
    },
    {
      "cell_type": "code",
      "execution_count": null,
      "id": "d5bb804a",
      "metadata": {
        "id": "d5bb804a",
        "outputId": "c1ac0ed6-0b0a-4810-d879-fb4ce2f4dacd"
      },
      "outputs": [
        {
          "data": {
            "text/plain": [
              "지점              0\n",
              "지점명             0\n",
              "일시              0\n",
              "평균기온(°C)        0\n",
              "최저기온(°C)        0\n",
              "최고기온(°C)        0\n",
              "일강수량(mm)      205\n",
              "평균 풍속(m/s)      0\n",
              "일 최심적설(cm)    338\n",
              "dtype: int64"
            ]
          },
          "execution_count": 101,
          "metadata": {},
          "output_type": "execute_result"
        }
      ],
      "source": [
        "weather.isna().sum() #일강수량과 최심적설 데이터에 결측치가 있음을 확인"
      ]
    },
    {
      "cell_type": "code",
      "execution_count": null,
      "id": "903a8e15",
      "metadata": {
        "id": "903a8e15",
        "outputId": "42280c34-d57a-43d4-d799-c081d14146d2"
      },
      "outputs": [
        {
          "data": {
            "text/html": [
              "<div>\n",
              "<style scoped>\n",
              "    .dataframe tbody tr th:only-of-type {\n",
              "        vertical-align: middle;\n",
              "    }\n",
              "\n",
              "    .dataframe tbody tr th {\n",
              "        vertical-align: top;\n",
              "    }\n",
              "\n",
              "    .dataframe thead th {\n",
              "        text-align: right;\n",
              "    }\n",
              "</style>\n",
              "<table border=\"1\" class=\"dataframe\">\n",
              "  <thead>\n",
              "    <tr style=\"text-align: right;\">\n",
              "      <th></th>\n",
              "      <th>지점</th>\n",
              "      <th>지점명</th>\n",
              "      <th>일시</th>\n",
              "      <th>평균기온(°C)</th>\n",
              "      <th>최저기온(°C)</th>\n",
              "      <th>최고기온(°C)</th>\n",
              "      <th>일강수량(mm)</th>\n",
              "      <th>평균 풍속(m/s)</th>\n",
              "      <th>일 최심적설(cm)</th>\n",
              "    </tr>\n",
              "  </thead>\n",
              "  <tbody>\n",
              "    <tr>\n",
              "      <th>0</th>\n",
              "      <td>108</td>\n",
              "      <td>서울</td>\n",
              "      <td>2021-01-01</td>\n",
              "      <td>-4.2</td>\n",
              "      <td>-9.8</td>\n",
              "      <td>1.6</td>\n",
              "      <td>0.0</td>\n",
              "      <td>2.0</td>\n",
              "      <td>0.0</td>\n",
              "    </tr>\n",
              "    <tr>\n",
              "      <th>1</th>\n",
              "      <td>108</td>\n",
              "      <td>서울</td>\n",
              "      <td>2021-01-02</td>\n",
              "      <td>-5.0</td>\n",
              "      <td>-8.4</td>\n",
              "      <td>-1.4</td>\n",
              "      <td>0.0</td>\n",
              "      <td>2.6</td>\n",
              "      <td>0.0</td>\n",
              "    </tr>\n",
              "    <tr>\n",
              "      <th>2</th>\n",
              "      <td>108</td>\n",
              "      <td>서울</td>\n",
              "      <td>2021-01-03</td>\n",
              "      <td>-5.6</td>\n",
              "      <td>-9.1</td>\n",
              "      <td>-2.0</td>\n",
              "      <td>0.0</td>\n",
              "      <td>2.0</td>\n",
              "      <td>0.0</td>\n",
              "    </tr>\n",
              "    <tr>\n",
              "      <th>3</th>\n",
              "      <td>108</td>\n",
              "      <td>서울</td>\n",
              "      <td>2021-01-04</td>\n",
              "      <td>-3.5</td>\n",
              "      <td>-8.4</td>\n",
              "      <td>0.3</td>\n",
              "      <td>0.0</td>\n",
              "      <td>1.7</td>\n",
              "      <td>0.0</td>\n",
              "    </tr>\n",
              "    <tr>\n",
              "      <th>4</th>\n",
              "      <td>108</td>\n",
              "      <td>서울</td>\n",
              "      <td>2021-01-05</td>\n",
              "      <td>-5.5</td>\n",
              "      <td>-9.9</td>\n",
              "      <td>-2.1</td>\n",
              "      <td>0.0</td>\n",
              "      <td>2.9</td>\n",
              "      <td>0.0</td>\n",
              "    </tr>\n",
              "    <tr>\n",
              "      <th>...</th>\n",
              "      <td>...</td>\n",
              "      <td>...</td>\n",
              "      <td>...</td>\n",
              "      <td>...</td>\n",
              "      <td>...</td>\n",
              "      <td>...</td>\n",
              "      <td>...</td>\n",
              "      <td>...</td>\n",
              "      <td>...</td>\n",
              "    </tr>\n",
              "    <tr>\n",
              "      <th>360</th>\n",
              "      <td>108</td>\n",
              "      <td>서울</td>\n",
              "      <td>2021-12-27</td>\n",
              "      <td>-7.6</td>\n",
              "      <td>-12.9</td>\n",
              "      <td>-3.9</td>\n",
              "      <td>0.0</td>\n",
              "      <td>1.7</td>\n",
              "      <td>0.0</td>\n",
              "    </tr>\n",
              "    <tr>\n",
              "      <th>361</th>\n",
              "      <td>108</td>\n",
              "      <td>서울</td>\n",
              "      <td>2021-12-28</td>\n",
              "      <td>-4.1</td>\n",
              "      <td>-8.5</td>\n",
              "      <td>-0.9</td>\n",
              "      <td>0.0</td>\n",
              "      <td>2.2</td>\n",
              "      <td>0.0</td>\n",
              "    </tr>\n",
              "    <tr>\n",
              "      <th>362</th>\n",
              "      <td>108</td>\n",
              "      <td>서울</td>\n",
              "      <td>2021-12-29</td>\n",
              "      <td>0.4</td>\n",
              "      <td>-3.8</td>\n",
              "      <td>5.9</td>\n",
              "      <td>0.2</td>\n",
              "      <td>2.6</td>\n",
              "      <td>0.3</td>\n",
              "    </tr>\n",
              "    <tr>\n",
              "      <th>363</th>\n",
              "      <td>108</td>\n",
              "      <td>서울</td>\n",
              "      <td>2021-12-30</td>\n",
              "      <td>-3.9</td>\n",
              "      <td>-6.8</td>\n",
              "      <td>0.2</td>\n",
              "      <td>0.0</td>\n",
              "      <td>3.3</td>\n",
              "      <td>0.0</td>\n",
              "    </tr>\n",
              "    <tr>\n",
              "      <th>364</th>\n",
              "      <td>108</td>\n",
              "      <td>서울</td>\n",
              "      <td>2021-12-31</td>\n",
              "      <td>-6.7</td>\n",
              "      <td>-8.8</td>\n",
              "      <td>-3.9</td>\n",
              "      <td>0.0</td>\n",
              "      <td>3.5</td>\n",
              "      <td>0.0</td>\n",
              "    </tr>\n",
              "  </tbody>\n",
              "</table>\n",
              "<p>365 rows × 9 columns</p>\n",
              "</div>"
            ],
            "text/plain": [
              "      지점 지점명          일시  평균기온(°C)  최저기온(°C)  최고기온(°C)  일강수량(mm)  평균 풍속(m/s)  \\\n",
              "0    108  서울  2021-01-01      -4.2      -9.8       1.6       0.0         2.0   \n",
              "1    108  서울  2021-01-02      -5.0      -8.4      -1.4       0.0         2.6   \n",
              "2    108  서울  2021-01-03      -5.6      -9.1      -2.0       0.0         2.0   \n",
              "3    108  서울  2021-01-04      -3.5      -8.4       0.3       0.0         1.7   \n",
              "4    108  서울  2021-01-05      -5.5      -9.9      -2.1       0.0         2.9   \n",
              "..   ...  ..         ...       ...       ...       ...       ...         ...   \n",
              "360  108  서울  2021-12-27      -7.6     -12.9      -3.9       0.0         1.7   \n",
              "361  108  서울  2021-12-28      -4.1      -8.5      -0.9       0.0         2.2   \n",
              "362  108  서울  2021-12-29       0.4      -3.8       5.9       0.2         2.6   \n",
              "363  108  서울  2021-12-30      -3.9      -6.8       0.2       0.0         3.3   \n",
              "364  108  서울  2021-12-31      -6.7      -8.8      -3.9       0.0         3.5   \n",
              "\n",
              "     일 최심적설(cm)  \n",
              "0           0.0  \n",
              "1           0.0  \n",
              "2           0.0  \n",
              "3           0.0  \n",
              "4           0.0  \n",
              "..          ...  \n",
              "360         0.0  \n",
              "361         0.0  \n",
              "362         0.3  \n",
              "363         0.0  \n",
              "364         0.0  \n",
              "\n",
              "[365 rows x 9 columns]"
            ]
          },
          "execution_count": 102,
          "metadata": {},
          "output_type": "execute_result"
        }
      ],
      "source": [
        "weather = weather.fillna(0) # 이 데이터셋에서 강수량과 최심적설이 결측인 것은 이러한 기후현상이 발생하지 않음. 즉 0과 마찬가지임\n",
        "weather"
      ]
    },
    {
      "cell_type": "code",
      "execution_count": null,
      "id": "ea8cddf1",
      "metadata": {
        "id": "ea8cddf1",
        "outputId": "42fbf62d-69db-4706-ad3d-0c0844cc49c3"
      },
      "outputs": [
        {
          "data": {
            "text/plain": [
              "Index(['지점', '지점명', '일시', '평균기온(°C)', '최저기온(°C)', '최고기온(°C)', '일강수량(mm)',\n",
              "       '평균 풍속(m/s)', '일 최심적설(cm)'],\n",
              "      dtype='object')"
            ]
          },
          "execution_count": 103,
          "metadata": {},
          "output_type": "execute_result"
        }
      ],
      "source": [
        "weather.columns"
      ]
    },
    {
      "cell_type": "code",
      "execution_count": null,
      "id": "71b326ed",
      "metadata": {
        "id": "71b326ed"
      },
      "outputs": [],
      "source": [
        "weather = weather[['일시', '평균기온(°C)', '최저기온(°C)', '최고기온(°C)', '일강수량(mm)',\n",
        "       '평균 풍속(m/s)', '일 최심적설(cm)']].copy() #copy()로 얕은 복사"
      ]
    },
    {
      "cell_type": "code",
      "execution_count": null,
      "id": "45c05191",
      "metadata": {
        "scrolled": true,
        "id": "45c05191",
        "outputId": "ef9c1789-d6c3-4337-f84a-dd176c533e75"
      },
      "outputs": [
        {
          "name": "stdout",
          "output_type": "stream",
          "text": [
            "<class 'pandas.core.frame.DataFrame'>\n",
            "RangeIndex: 365 entries, 0 to 364\n",
            "Data columns (total 7 columns):\n",
            " #   Column      Non-Null Count  Dtype  \n",
            "---  ------      --------------  -----  \n",
            " 0   일시          365 non-null    object \n",
            " 1   평균기온(°C)    365 non-null    float64\n",
            " 2   최저기온(°C)    365 non-null    float64\n",
            " 3   최고기온(°C)    365 non-null    float64\n",
            " 4   일강수량(mm)    365 non-null    float64\n",
            " 5   평균 풍속(m/s)  365 non-null    float64\n",
            " 6   일 최심적설(cm)  365 non-null    float64\n",
            "dtypes: float64(6), object(1)\n",
            "memory usage: 20.1+ KB\n"
          ]
        }
      ],
      "source": [
        "weather.info() #필요한 데이터만 남겨 용량 최소화"
      ]
    },
    {
      "cell_type": "code",
      "execution_count": null,
      "id": "c107e83c",
      "metadata": {
        "id": "c107e83c",
        "outputId": "31e3c08e-9041-4e93-a5be-dede64b6c343"
      },
      "outputs": [
        {
          "name": "stdout",
          "output_type": "stream",
          "text": [
            "<class 'pandas.core.frame.DataFrame'>\n",
            "RangeIndex: 365 entries, 0 to 364\n",
            "Data columns (total 8 columns):\n",
            " #   Column      Non-Null Count  Dtype         \n",
            "---  ------      --------------  -----         \n",
            " 0   일시          365 non-null    object        \n",
            " 1   평균기온(°C)    365 non-null    float64       \n",
            " 2   최저기온(°C)    365 non-null    float64       \n",
            " 3   최고기온(°C)    365 non-null    float64       \n",
            " 4   일강수량(mm)    365 non-null    float64       \n",
            " 5   평균 풍속(m/s)  365 non-null    float64       \n",
            " 6   일 최심적설(cm)  365 non-null    float64       \n",
            " 7   Date        365 non-null    datetime64[ns]\n",
            "dtypes: datetime64[ns](1), float64(6), object(1)\n",
            "memory usage: 22.9+ KB\n"
          ]
        }
      ],
      "source": [
        "weather['Date'] = pd.to_datetime(weather['일시'])\n",
        "weather.info() # dt속성을 이용하기 위해 거래일을 datetime형태로 바꾼 것을 date열에 저장"
      ]
    },
    {
      "cell_type": "code",
      "execution_count": null,
      "id": "fbae649b",
      "metadata": {
        "id": "fbae649b",
        "outputId": "bba8594d-bc22-44b1-a1f9-17cd4f9ea72c"
      },
      "outputs": [
        {
          "data": {
            "text/html": [
              "<div>\n",
              "<style scoped>\n",
              "    .dataframe tbody tr th:only-of-type {\n",
              "        vertical-align: middle;\n",
              "    }\n",
              "\n",
              "    .dataframe tbody tr th {\n",
              "        vertical-align: top;\n",
              "    }\n",
              "\n",
              "    .dataframe thead th {\n",
              "        text-align: right;\n",
              "    }\n",
              "</style>\n",
              "<table border=\"1\" class=\"dataframe\">\n",
              "  <thead>\n",
              "    <tr style=\"text-align: right;\">\n",
              "      <th></th>\n",
              "      <th>일시</th>\n",
              "      <th>평균기온(°C)</th>\n",
              "      <th>최저기온(°C)</th>\n",
              "      <th>최고기온(°C)</th>\n",
              "      <th>일강수량(mm)</th>\n",
              "      <th>평균 풍속(m/s)</th>\n",
              "      <th>일 최심적설(cm)</th>\n",
              "      <th>Date</th>\n",
              "      <th>Year</th>\n",
              "      <th>Month</th>\n",
              "      <th>Day</th>\n",
              "    </tr>\n",
              "  </thead>\n",
              "  <tbody>\n",
              "    <tr>\n",
              "      <th>0</th>\n",
              "      <td>2021-01-01</td>\n",
              "      <td>-4.2</td>\n",
              "      <td>-9.8</td>\n",
              "      <td>1.6</td>\n",
              "      <td>0.0</td>\n",
              "      <td>2.0</td>\n",
              "      <td>0.0</td>\n",
              "      <td>2021-01-01</td>\n",
              "      <td>2021</td>\n",
              "      <td>1</td>\n",
              "      <td>1</td>\n",
              "    </tr>\n",
              "    <tr>\n",
              "      <th>1</th>\n",
              "      <td>2021-01-02</td>\n",
              "      <td>-5.0</td>\n",
              "      <td>-8.4</td>\n",
              "      <td>-1.4</td>\n",
              "      <td>0.0</td>\n",
              "      <td>2.6</td>\n",
              "      <td>0.0</td>\n",
              "      <td>2021-01-02</td>\n",
              "      <td>2021</td>\n",
              "      <td>1</td>\n",
              "      <td>2</td>\n",
              "    </tr>\n",
              "    <tr>\n",
              "      <th>2</th>\n",
              "      <td>2021-01-03</td>\n",
              "      <td>-5.6</td>\n",
              "      <td>-9.1</td>\n",
              "      <td>-2.0</td>\n",
              "      <td>0.0</td>\n",
              "      <td>2.0</td>\n",
              "      <td>0.0</td>\n",
              "      <td>2021-01-03</td>\n",
              "      <td>2021</td>\n",
              "      <td>1</td>\n",
              "      <td>3</td>\n",
              "    </tr>\n",
              "    <tr>\n",
              "      <th>3</th>\n",
              "      <td>2021-01-04</td>\n",
              "      <td>-3.5</td>\n",
              "      <td>-8.4</td>\n",
              "      <td>0.3</td>\n",
              "      <td>0.0</td>\n",
              "      <td>1.7</td>\n",
              "      <td>0.0</td>\n",
              "      <td>2021-01-04</td>\n",
              "      <td>2021</td>\n",
              "      <td>1</td>\n",
              "      <td>4</td>\n",
              "    </tr>\n",
              "    <tr>\n",
              "      <th>4</th>\n",
              "      <td>2021-01-05</td>\n",
              "      <td>-5.5</td>\n",
              "      <td>-9.9</td>\n",
              "      <td>-2.1</td>\n",
              "      <td>0.0</td>\n",
              "      <td>2.9</td>\n",
              "      <td>0.0</td>\n",
              "      <td>2021-01-05</td>\n",
              "      <td>2021</td>\n",
              "      <td>1</td>\n",
              "      <td>5</td>\n",
              "    </tr>\n",
              "  </tbody>\n",
              "</table>\n",
              "</div>"
            ],
            "text/plain": [
              "           일시  평균기온(°C)  최저기온(°C)  최고기온(°C)  일강수량(mm)  평균 풍속(m/s)  일 최심적설(cm)  \\\n",
              "0  2021-01-01      -4.2      -9.8       1.6       0.0         2.0         0.0   \n",
              "1  2021-01-02      -5.0      -8.4      -1.4       0.0         2.6         0.0   \n",
              "2  2021-01-03      -5.6      -9.1      -2.0       0.0         2.0         0.0   \n",
              "3  2021-01-04      -3.5      -8.4       0.3       0.0         1.7         0.0   \n",
              "4  2021-01-05      -5.5      -9.9      -2.1       0.0         2.9         0.0   \n",
              "\n",
              "        Date  Year  Month  Day  \n",
              "0 2021-01-01  2021      1    1  \n",
              "1 2021-01-02  2021      1    2  \n",
              "2 2021-01-03  2021      1    3  \n",
              "3 2021-01-04  2021      1    4  \n",
              "4 2021-01-05  2021      1    5  "
            ]
          },
          "execution_count": 107,
          "metadata": {},
          "output_type": "execute_result"
        }
      ],
      "source": [
        "weather['Year'] = weather['Date'].dt.year\n",
        "weather['Month'] = weather['Date'].dt.month\n",
        "weather['Day'] = weather['Date'].dt.day\n",
        "\n",
        "weather.head()"
      ]
    },
    {
      "cell_type": "code",
      "execution_count": null,
      "id": "21311962",
      "metadata": {
        "id": "21311962",
        "outputId": "a035b208-27c5-4d4e-adc8-ad8e2b6346e2"
      },
      "outputs": [
        {
          "data": {
            "text/html": [
              "<div>\n",
              "<style scoped>\n",
              "    .dataframe tbody tr th:only-of-type {\n",
              "        vertical-align: middle;\n",
              "    }\n",
              "\n",
              "    .dataframe tbody tr th {\n",
              "        vertical-align: top;\n",
              "    }\n",
              "\n",
              "    .dataframe thead th {\n",
              "        text-align: right;\n",
              "    }\n",
              "</style>\n",
              "<table border=\"1\" class=\"dataframe\">\n",
              "  <thead>\n",
              "    <tr style=\"text-align: right;\">\n",
              "      <th></th>\n",
              "      <th>Year</th>\n",
              "      <th>Month</th>\n",
              "      <th>Day</th>\n",
              "      <th>일 최심적설(cm)</th>\n",
              "      <th>일강수량(mm)</th>\n",
              "      <th>최고기온(°C)</th>\n",
              "      <th>최저기온(°C)</th>\n",
              "      <th>평균 풍속(m/s)</th>\n",
              "      <th>평균기온(°C)</th>\n",
              "    </tr>\n",
              "  </thead>\n",
              "  <tbody>\n",
              "    <tr>\n",
              "      <th>0</th>\n",
              "      <td>2021</td>\n",
              "      <td>1</td>\n",
              "      <td>1</td>\n",
              "      <td>0.0</td>\n",
              "      <td>0.0</td>\n",
              "      <td>1.6</td>\n",
              "      <td>-9.8</td>\n",
              "      <td>2.0</td>\n",
              "      <td>-4.2</td>\n",
              "    </tr>\n",
              "    <tr>\n",
              "      <th>1</th>\n",
              "      <td>2021</td>\n",
              "      <td>1</td>\n",
              "      <td>2</td>\n",
              "      <td>0.0</td>\n",
              "      <td>0.0</td>\n",
              "      <td>-1.4</td>\n",
              "      <td>-8.4</td>\n",
              "      <td>2.6</td>\n",
              "      <td>-5.0</td>\n",
              "    </tr>\n",
              "    <tr>\n",
              "      <th>2</th>\n",
              "      <td>2021</td>\n",
              "      <td>1</td>\n",
              "      <td>3</td>\n",
              "      <td>0.0</td>\n",
              "      <td>0.0</td>\n",
              "      <td>-2.0</td>\n",
              "      <td>-9.1</td>\n",
              "      <td>2.0</td>\n",
              "      <td>-5.6</td>\n",
              "    </tr>\n",
              "    <tr>\n",
              "      <th>3</th>\n",
              "      <td>2021</td>\n",
              "      <td>1</td>\n",
              "      <td>4</td>\n",
              "      <td>0.0</td>\n",
              "      <td>0.0</td>\n",
              "      <td>0.3</td>\n",
              "      <td>-8.4</td>\n",
              "      <td>1.7</td>\n",
              "      <td>-3.5</td>\n",
              "    </tr>\n",
              "    <tr>\n",
              "      <th>4</th>\n",
              "      <td>2021</td>\n",
              "      <td>1</td>\n",
              "      <td>5</td>\n",
              "      <td>0.0</td>\n",
              "      <td>0.0</td>\n",
              "      <td>-2.1</td>\n",
              "      <td>-9.9</td>\n",
              "      <td>2.9</td>\n",
              "      <td>-5.5</td>\n",
              "    </tr>\n",
              "    <tr>\n",
              "      <th>...</th>\n",
              "      <td>...</td>\n",
              "      <td>...</td>\n",
              "      <td>...</td>\n",
              "      <td>...</td>\n",
              "      <td>...</td>\n",
              "      <td>...</td>\n",
              "      <td>...</td>\n",
              "      <td>...</td>\n",
              "      <td>...</td>\n",
              "    </tr>\n",
              "    <tr>\n",
              "      <th>360</th>\n",
              "      <td>2021</td>\n",
              "      <td>12</td>\n",
              "      <td>27</td>\n",
              "      <td>0.0</td>\n",
              "      <td>0.0</td>\n",
              "      <td>-3.9</td>\n",
              "      <td>-12.9</td>\n",
              "      <td>1.7</td>\n",
              "      <td>-7.6</td>\n",
              "    </tr>\n",
              "    <tr>\n",
              "      <th>361</th>\n",
              "      <td>2021</td>\n",
              "      <td>12</td>\n",
              "      <td>28</td>\n",
              "      <td>0.0</td>\n",
              "      <td>0.0</td>\n",
              "      <td>-0.9</td>\n",
              "      <td>-8.5</td>\n",
              "      <td>2.2</td>\n",
              "      <td>-4.1</td>\n",
              "    </tr>\n",
              "    <tr>\n",
              "      <th>362</th>\n",
              "      <td>2021</td>\n",
              "      <td>12</td>\n",
              "      <td>29</td>\n",
              "      <td>0.3</td>\n",
              "      <td>0.2</td>\n",
              "      <td>5.9</td>\n",
              "      <td>-3.8</td>\n",
              "      <td>2.6</td>\n",
              "      <td>0.4</td>\n",
              "    </tr>\n",
              "    <tr>\n",
              "      <th>363</th>\n",
              "      <td>2021</td>\n",
              "      <td>12</td>\n",
              "      <td>30</td>\n",
              "      <td>0.0</td>\n",
              "      <td>0.0</td>\n",
              "      <td>0.2</td>\n",
              "      <td>-6.8</td>\n",
              "      <td>3.3</td>\n",
              "      <td>-3.9</td>\n",
              "    </tr>\n",
              "    <tr>\n",
              "      <th>364</th>\n",
              "      <td>2021</td>\n",
              "      <td>12</td>\n",
              "      <td>31</td>\n",
              "      <td>0.0</td>\n",
              "      <td>0.0</td>\n",
              "      <td>-3.9</td>\n",
              "      <td>-8.8</td>\n",
              "      <td>3.5</td>\n",
              "      <td>-6.7</td>\n",
              "    </tr>\n",
              "  </tbody>\n",
              "</table>\n",
              "<p>365 rows × 9 columns</p>\n",
              "</div>"
            ],
            "text/plain": [
              "     Year  Month  Day  일 최심적설(cm)  일강수량(mm)  최고기온(°C)  최저기온(°C)  평균 풍속(m/s)  \\\n",
              "0    2021      1    1         0.0       0.0       1.6      -9.8         2.0   \n",
              "1    2021      1    2         0.0       0.0      -1.4      -8.4         2.6   \n",
              "2    2021      1    3         0.0       0.0      -2.0      -9.1         2.0   \n",
              "3    2021      1    4         0.0       0.0       0.3      -8.4         1.7   \n",
              "4    2021      1    5         0.0       0.0      -2.1      -9.9         2.9   \n",
              "..    ...    ...  ...         ...       ...       ...       ...         ...   \n",
              "360  2021     12   27         0.0       0.0      -3.9     -12.9         1.7   \n",
              "361  2021     12   28         0.0       0.0      -0.9      -8.5         2.2   \n",
              "362  2021     12   29         0.3       0.2       5.9      -3.8         2.6   \n",
              "363  2021     12   30         0.0       0.0       0.2      -6.8         3.3   \n",
              "364  2021     12   31         0.0       0.0      -3.9      -8.8         3.5   \n",
              "\n",
              "     평균기온(°C)  \n",
              "0        -4.2  \n",
              "1        -5.0  \n",
              "2        -5.6  \n",
              "3        -3.5  \n",
              "4        -5.5  \n",
              "..        ...  \n",
              "360      -7.6  \n",
              "361      -4.1  \n",
              "362       0.4  \n",
              "363      -3.9  \n",
              "364      -6.7  \n",
              "\n",
              "[365 rows x 9 columns]"
            ]
          },
          "execution_count": 110,
          "metadata": {},
          "output_type": "execute_result"
        }
      ],
      "source": [
        "weather_2021 = weather.pivot_table(index=['Year','Month','Day']).reset_index()\n",
        "weather_2021"
      ]
    },
    {
      "cell_type": "markdown",
      "id": "96166f69",
      "metadata": {
        "id": "96166f69"
      },
      "source": [
        "## 데이터 병합"
      ]
    },
    {
      "cell_type": "code",
      "execution_count": null,
      "id": "89ed0462",
      "metadata": {
        "id": "89ed0462",
        "outputId": "cf66b74b-a047-47ae-def3-34fec5eab0f7"
      },
      "outputs": [
        {
          "data": {
            "text/html": [
              "<div>\n",
              "<style scoped>\n",
              "    .dataframe tbody tr th:only-of-type {\n",
              "        vertical-align: middle;\n",
              "    }\n",
              "\n",
              "    .dataframe tbody tr th {\n",
              "        vertical-align: top;\n",
              "    }\n",
              "\n",
              "    .dataframe thead th {\n",
              "        text-align: right;\n",
              "    }\n",
              "</style>\n",
              "<table border=\"1\" class=\"dataframe\">\n",
              "  <thead>\n",
              "    <tr style=\"text-align: right;\">\n",
              "      <th></th>\n",
              "      <th>Year</th>\n",
              "      <th>Month</th>\n",
              "      <th>Day</th>\n",
              "      <th>solar_day</th>\n",
              "      <th>일 최심적설(cm)</th>\n",
              "      <th>일강수량(mm)</th>\n",
              "      <th>최고기온(°C)</th>\n",
              "      <th>최저기온(°C)</th>\n",
              "      <th>평균 풍속(m/s)</th>\n",
              "      <th>평균기온(°C)</th>\n",
              "    </tr>\n",
              "  </thead>\n",
              "  <tbody>\n",
              "    <tr>\n",
              "      <th>0</th>\n",
              "      <td>2021</td>\n",
              "      <td>1</td>\n",
              "      <td>1</td>\n",
              "      <td>39.278784</td>\n",
              "      <td>0.0</td>\n",
              "      <td>0.0</td>\n",
              "      <td>1.6</td>\n",
              "      <td>-9.8</td>\n",
              "      <td>2.0</td>\n",
              "      <td>-4.2</td>\n",
              "    </tr>\n",
              "    <tr>\n",
              "      <th>1</th>\n",
              "      <td>2021</td>\n",
              "      <td>1</td>\n",
              "      <td>2</td>\n",
              "      <td>50.582033</td>\n",
              "      <td>0.0</td>\n",
              "      <td>0.0</td>\n",
              "      <td>-1.4</td>\n",
              "      <td>-8.4</td>\n",
              "      <td>2.6</td>\n",
              "      <td>-5.0</td>\n",
              "    </tr>\n",
              "    <tr>\n",
              "      <th>2</th>\n",
              "      <td>2021</td>\n",
              "      <td>1</td>\n",
              "      <td>3</td>\n",
              "      <td>34.708302</td>\n",
              "      <td>0.0</td>\n",
              "      <td>0.0</td>\n",
              "      <td>-2.0</td>\n",
              "      <td>-9.1</td>\n",
              "      <td>2.0</td>\n",
              "      <td>-5.6</td>\n",
              "    </tr>\n",
              "    <tr>\n",
              "      <th>3</th>\n",
              "      <td>2021</td>\n",
              "      <td>1</td>\n",
              "      <td>4</td>\n",
              "      <td>31.779181</td>\n",
              "      <td>0.0</td>\n",
              "      <td>0.0</td>\n",
              "      <td>0.3</td>\n",
              "      <td>-8.4</td>\n",
              "      <td>1.7</td>\n",
              "      <td>-3.5</td>\n",
              "    </tr>\n",
              "    <tr>\n",
              "      <th>4</th>\n",
              "      <td>2021</td>\n",
              "      <td>1</td>\n",
              "      <td>5</td>\n",
              "      <td>47.523972</td>\n",
              "      <td>0.0</td>\n",
              "      <td>0.0</td>\n",
              "      <td>-2.1</td>\n",
              "      <td>-9.9</td>\n",
              "      <td>2.9</td>\n",
              "      <td>-5.5</td>\n",
              "    </tr>\n",
              "    <tr>\n",
              "      <th>...</th>\n",
              "      <td>...</td>\n",
              "      <td>...</td>\n",
              "      <td>...</td>\n",
              "      <td>...</td>\n",
              "      <td>...</td>\n",
              "      <td>...</td>\n",
              "      <td>...</td>\n",
              "      <td>...</td>\n",
              "      <td>...</td>\n",
              "      <td>...</td>\n",
              "    </tr>\n",
              "    <tr>\n",
              "      <th>360</th>\n",
              "      <td>2021</td>\n",
              "      <td>12</td>\n",
              "      <td>27</td>\n",
              "      <td>23.184872</td>\n",
              "      <td>0.0</td>\n",
              "      <td>0.0</td>\n",
              "      <td>-3.9</td>\n",
              "      <td>-12.9</td>\n",
              "      <td>1.7</td>\n",
              "      <td>-7.6</td>\n",
              "    </tr>\n",
              "    <tr>\n",
              "      <th>361</th>\n",
              "      <td>2021</td>\n",
              "      <td>12</td>\n",
              "      <td>28</td>\n",
              "      <td>14.259177</td>\n",
              "      <td>0.0</td>\n",
              "      <td>0.0</td>\n",
              "      <td>-0.9</td>\n",
              "      <td>-8.5</td>\n",
              "      <td>2.2</td>\n",
              "      <td>-4.1</td>\n",
              "    </tr>\n",
              "    <tr>\n",
              "      <th>362</th>\n",
              "      <td>2021</td>\n",
              "      <td>12</td>\n",
              "      <td>29</td>\n",
              "      <td>17.772088</td>\n",
              "      <td>0.3</td>\n",
              "      <td>0.2</td>\n",
              "      <td>5.9</td>\n",
              "      <td>-3.8</td>\n",
              "      <td>2.6</td>\n",
              "      <td>0.4</td>\n",
              "    </tr>\n",
              "    <tr>\n",
              "      <th>363</th>\n",
              "      <td>2021</td>\n",
              "      <td>12</td>\n",
              "      <td>30</td>\n",
              "      <td>38.614533</td>\n",
              "      <td>0.0</td>\n",
              "      <td>0.0</td>\n",
              "      <td>0.2</td>\n",
              "      <td>-6.8</td>\n",
              "      <td>3.3</td>\n",
              "      <td>-3.9</td>\n",
              "    </tr>\n",
              "    <tr>\n",
              "      <th>364</th>\n",
              "      <td>2021</td>\n",
              "      <td>12</td>\n",
              "      <td>31</td>\n",
              "      <td>55.063524</td>\n",
              "      <td>0.0</td>\n",
              "      <td>0.0</td>\n",
              "      <td>-3.9</td>\n",
              "      <td>-8.8</td>\n",
              "      <td>3.5</td>\n",
              "      <td>-6.7</td>\n",
              "    </tr>\n",
              "  </tbody>\n",
              "</table>\n",
              "<p>365 rows × 10 columns</p>\n",
              "</div>"
            ],
            "text/plain": [
              "     Year  Month  Day  solar_day  일 최심적설(cm)  일강수량(mm)  최고기온(°C)  최저기온(°C)  \\\n",
              "0    2021      1    1  39.278784         0.0       0.0       1.6      -9.8   \n",
              "1    2021      1    2  50.582033         0.0       0.0      -1.4      -8.4   \n",
              "2    2021      1    3  34.708302         0.0       0.0      -2.0      -9.1   \n",
              "3    2021      1    4  31.779181         0.0       0.0       0.3      -8.4   \n",
              "4    2021      1    5  47.523972         0.0       0.0      -2.1      -9.9   \n",
              "..    ...    ...  ...        ...         ...       ...       ...       ...   \n",
              "360  2021     12   27  23.184872         0.0       0.0      -3.9     -12.9   \n",
              "361  2021     12   28  14.259177         0.0       0.0      -0.9      -8.5   \n",
              "362  2021     12   29  17.772088         0.3       0.2       5.9      -3.8   \n",
              "363  2021     12   30  38.614533         0.0       0.0       0.2      -6.8   \n",
              "364  2021     12   31  55.063524         0.0       0.0      -3.9      -8.8   \n",
              "\n",
              "     평균 풍속(m/s)  평균기온(°C)  \n",
              "0           2.0      -4.2  \n",
              "1           2.6      -5.0  \n",
              "2           2.0      -5.6  \n",
              "3           1.7      -3.5  \n",
              "4           2.9      -5.5  \n",
              "..          ...       ...  \n",
              "360         1.7      -7.6  \n",
              "361         2.2      -4.1  \n",
              "362         2.6       0.4  \n",
              "363         3.3      -3.9  \n",
              "364         3.5      -6.7  \n",
              "\n",
              "[365 rows x 10 columns]"
            ]
          },
          "execution_count": 113,
          "metadata": {},
          "output_type": "execute_result"
        }
      ],
      "source": [
        "df = pd.merge(solar_2021, weather_2021, how = 'inner')\n",
        "df #inner 기준으로 데이터 merge"
      ]
    },
    {
      "cell_type": "markdown",
      "id": "0a894530",
      "metadata": {
        "id": "0a894530"
      },
      "source": [
        "## 가설1. 강수량(혹은 적설량)이 낮을수록 발전량이 높을 것이다."
      ]
    },
    {
      "cell_type": "code",
      "execution_count": null,
      "id": "87282012",
      "metadata": {
        "id": "87282012",
        "outputId": "675c6391-9308-4975-9841-6aef9817a346"
      },
      "outputs": [
        {
          "data": {
            "text/plain": [
              "<AxesSubplot:xlabel='Year,Month'>"
            ]
          },
          "execution_count": 134,
          "metadata": {},
          "output_type": "execute_result"
        },
        {
          "data": {
            "image/png": "[encoded data removed]",
            "text/plain": [
              "<Figure size 1000x500 with 1 Axes>"
            ]
          },
          "metadata": {},
          "output_type": "display_data"
        }
      ],
      "source": [
        "df.pivot_table(index=['Year','Month'])['solar_day'].plot(figsize = (10,5))"
      ]
    },
    {
      "cell_type": "code",
      "execution_count": null,
      "id": "14ea6c47",
      "metadata": {
        "id": "14ea6c47",
        "outputId": "47925df9-d4be-42bd-8297-bb805a2fcac7"
      },
      "outputs": [
        {
          "data": {
            "text/plain": [
              "<AxesSubplot:xlabel='Year,Month'>"
            ]
          },
          "execution_count": 140,
          "metadata": {},
          "output_type": "execute_result"
        },
        {
          "data": {
            "image/png": "[encoded data removed]",
            "text/plain": [
              "<Figure size 1000x500 with 1 Axes>"
            ]
          },
          "metadata": {},
          "output_type": "display_data"
        }
      ],
      "source": [
        "df.pivot_table(index=['Year','Month'])['일강수량(mm)'].plot(figsize = (10,5))"
      ]
    },
    {
      "cell_type": "markdown",
      "id": "6402ebab",
      "metadata": {
        "id": "6402ebab"
      },
      "source": [
        "* 강수량이 높게 나타는 5월과 8월의 경우, 실제로 발전량 그래프 또한 꺽임을 확인할 수 있다."
      ]
    },
    {
      "cell_type": "markdown",
      "id": "25003c43",
      "metadata": {
        "id": "25003c43"
      },
      "source": [
        "## 가설2. 계절별로 발전량과 관계가 있다. (여름이면 높고 겨울이면 낮다)"
      ]
    },
    {
      "cell_type": "code",
      "execution_count": null,
      "id": "9316e79b",
      "metadata": {
        "id": "9316e79b",
        "outputId": "ae06f92e-7698-459b-ce2b-1abf8494fd03"
      },
      "outputs": [
        {
          "data": {
            "text/plain": [
              "<AxesSubplot:xlabel='Year,Month'>"
            ]
          },
          "execution_count": 125,
          "metadata": {},
          "output_type": "execute_result"
        },
        {
          "data": {
            "image/png": "[encoded data removed]",
            "text/plain": [
              "<Figure size 2000x600 with 1 Axes>"
            ]
          },
          "metadata": {},
          "output_type": "display_data"
        }
      ],
      "source": [
        "df.pivot_table(index=['Year','Month'])['solar_day'].plot(figsize=(20,6))"
      ]
    },
    {
      "cell_type": "code",
      "execution_count": null,
      "id": "4f9e9b43",
      "metadata": {
        "id": "4f9e9b43",
        "outputId": "8088b85f-16e1-4234-a626-f78414aa6bf3"
      },
      "outputs": [
        {
          "data": {
            "text/plain": [
              "<AxesSubplot:xlabel='Year,Month'>"
            ]
          },
          "execution_count": 126,
          "metadata": {},
          "output_type": "execute_result"
        },
        {
          "data": {
            "image/png": "[encoded data removed]",
            "text/plain": [
              "<Figure size 2000x600 with 1 Axes>"
            ]
          },
          "metadata": {},
          "output_type": "display_data"
        }
      ],
      "source": [
        "df.pivot_table(index=['Year','Month'])['평균기온(°C)'].plot(figsize=(20,6))"
      ]
    },
    {
      "cell_type": "markdown",
      "id": "fa2f8560",
      "metadata": {
        "id": "fa2f8560"
      },
      "source": [
        "* 기온이 낮은 1월,2월과 10월,11월, 12월에 발전량이 낮아지고 기온이 높아지기 시작하는 3월부터 9월에는 발전량이 높음을 알 수 있다"
      ]
    }
  ],
  "metadata": {
    "kernelspec": {
      "display_name": "Python 3 (ipykernel)",
      "language": "python",
      "name": "python3"
    },
    "language_info": {
      "codemirror_mode": {
        "name": "ipython",
        "version": 3
      },
      "file_extension": ".py",
      "mimetype": "text/x-python",
      "name": "python",
      "nbconvert_exporter": "python",
      "pygments_lexer": "ipython3",
      "version": "3.9.13"
    },
    "toc": {
      "base_numbering": 1,
      "nav_menu": {},
      "number_sections": true,
      "sideBar": true,
      "skip_h1_title": false,
      "title_cell": "Table of Contents",
      "title_sidebar": "Contents",
      "toc_cell": false,
      "toc_position": {},
      "toc_section_display": true,
      "toc_window_display": false
    },
    "colab": {
      "provenance": [],
      "include_colab_link": true
    }
  },
  "nbformat": 4,
  "nbformat_minor": 5
}